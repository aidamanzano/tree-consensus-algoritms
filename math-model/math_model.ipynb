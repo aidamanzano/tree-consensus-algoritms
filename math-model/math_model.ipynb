{
 "cells": [
  {
   "cell_type": "markdown",
   "id": "c2b3f539",
   "metadata": {},
   "source": [
    "## Math model scripts\n"
   ]
  },
  {
   "cell_type": "markdown",
   "id": "4fe9a6ec",
   "metadata": {},
   "source": [
    "First we create a generating function to keep track of the probability that the number of approvals = $S$. \\\n",
    "For a single approval, the generating function is in the form: \\\n",
    "$g(x) = p_a(x)^1 + p_r(x)^{-1} + p_i(x)^0$ \n",
    "\n",
    "\n",
    "For $n$ many agents sending an approval, the generating function looks like:\n",
    "$g(x)^n = (p_a(x)^1 + p_r(x)^{-1} + p_i(x)^0)^n$"
   ]
  },
  {
   "cell_type": "code",
   "execution_count": 2,
   "id": "1ed28c4d",
   "metadata": {},
   "outputs": [],
   "source": [
    "import sympy as sp\n",
    "#we will manipulate the generating function symbolically to compute the probability of success in a single depth level for a single parent\n",
    "import math\n",
    "import numpy as np"
   ]
  },
  {
   "cell_type": "code",
   "execution_count": 18,
   "id": "188fc3d7",
   "metadata": {},
   "outputs": [],
   "source": [
    "def generating_function(x:sp.Symbol, p_a:sp.Symbol, p_r:sp.Symbol, p_i:sp.Symbol, n:sp.Symbol)->sp.Expr:\n",
    "    \"\"\"Generating function to keep track of the probability that an approval is either accept(1), reject(-1) or ignore(0).\n",
    "    The probability that the approval is each one of these values is the coefficient of the x term. For more info check the paper.\n",
    "    \n",
    "    Inputs: \n",
    "    n: exponent of the generating function (this is the number of times a parent asks for an approval, which == number of children parent has.)\n",
    "    \n",
    "    p_a: probability that an agent accepts the parent's claim\n",
    "    p_r: probability that an agent rejects the parent's claim\n",
    "    p_i: probability that an agent ignores the parent's claim\n",
    "\n",
    "    All inputs are symbolic objects.\"\"\"\n",
    "    g = (p_a*(x**1) + p_r*(x**-1) + p_i*(x**0))**n\n",
    "    return g"
   ]
  },
  {
   "cell_type": "code",
   "execution_count": 17,
   "id": "d2c7feb2",
   "metadata": {},
   "outputs": [
    {
     "name": "stdout",
     "output_type": "stream",
     "text": [
      "<class 'sympy.core.power.Pow'>\n"
     ]
    }
   ],
   "source": [
    "x, n = sp.symbols('x, n')\n",
    "p_a, p_r, p_i = sp.symbols('p_a, p_r, p_i')\n",
    "\n",
    "g = generating_function(x, p_a, p_r, p_i, n)\n",
    "print(type(g))"
   ]
  },
  {
   "cell_type": "code",
   "execution_count": 16,
   "id": "2e157e84",
   "metadata": {},
   "outputs": [],
   "source": [
    "#here we will sub into n the number of neighbours a parent has at depth d\n",
    "\n",
    "def sub_neighbours_into_g(g:sp.Expr, n_symbolic:sp.Symbol, n:int):\n",
    "    \"\"\"Expands the generating function and substitues the integer value into the exponent of the generating function.\n",
    "    The exponent n is the number of children a parent has at that depth level, n_d.\n",
    "    \n",
    "    Returns expanded generating function with substituted value for the exponent n.\n",
    "    \n",
    "    inputs:\n",
    "    g: generating function\n",
    "    n_symbolic: the symbolic variable that is the exponent of the generating function\n",
    "    n: the integer value to substitute into n_symbolic\"\"\"\n",
    "    gn = g.subs(n_symbolic, n)\n",
    "    expanded_gn = sp.expand(gn)\n",
    "    return expanded_gn"
   ]
  },
  {
   "cell_type": "code",
   "execution_count": 15,
   "id": "28621c77",
   "metadata": {},
   "outputs": [],
   "source": [
    "def coefficients_g(expanded_generating_function:sp.Expr, x:sp.Symbol)-> dict:\n",
    "    \"\"\"extracting coefficients of x from the expanded generating function.\n",
    "    expanded_generating_function: expanded generating function: sympy expression\n",
    "    x: variable to extract coefficients from. \n",
    "\n",
    "    returns: dict:{power: coefficient}\n",
    "    \"\"\"\n",
    "    # Dictionary to hold coefficients by power\n",
    "    coeff_dict = {}\n",
    "\n",
    "    # Break the expression into terms and analyze powers\n",
    "    for term in expanded_generating_function.as_ordered_terms():\n",
    "        term = sp.expand(term)\n",
    "        coeff, power = term.as_coeff_exponent(x)\n",
    "        coeff_dict[power] = coeff_dict.get(power, 0) + coeff\n",
    "\n",
    "    return coeff_dict"
   ]
  },
  {
   "cell_type": "markdown",
   "id": "e527b740",
   "metadata": {},
   "source": [
    "Next we compute the probability that a single parent at depth $d$ receives enough approvals, $S$, from its $n_d$ children. \n",
    "\n",
    "$p_s = P(S \\geq n_d*t)$\n",
    "\n",
    "where $t$ is the threshold parameter.\n",
    "\n",
    "$p_s = \\sum_{k = \\lceil n_d t \\rceil}^{n_d} P(S = k) $"
   ]
  },
  {
   "cell_type": "code",
   "execution_count": 13,
   "id": "27ad5d5d",
   "metadata": {},
   "outputs": [],
   "source": [
    "def prob_success_single_parent_at_depth_d(coeff_dict:dict, n:int, k:int, p_accept:float, p_reject:float, p_ignore:float):\n",
    "    \"\"\"Returns: probability of a single parent receiving enough approvals at a given depth level d.\n",
    "\n",
    "    Here we evaluate the symbolic coefficients of the expanded generating function by inputing the actual values of \n",
    "    p_accept, p_reject, p_ignore.\n",
    "    \n",
    "    inputs:\n",
    "    coeff_dict: dictionary with the coefficients of each term of x from the generating function. \n",
    "    The keys are the x exponent, and the values are the coefficient of that x^exponent term\n",
    "\n",
    "    n: branching factor at that depth level. (i.e: number of children the parent has at depth level d)\n",
    "    k: minimum number of children that need to approve the parent so it is considered valid.\n",
    "\n",
    "    p_accept: probability that a single child accepts its parent (response = 1)\n",
    "    p_reject: probability that a single child rejects its parent (response = -1)\n",
    "    p_ignore: probability that a single child ignores its parent (response = 0)\n",
    "    \"\"\"\n",
    "    #range(np.ceil(n_d*t), n_d +1)\n",
    "    prob_success = 0\n",
    "    for exponent in range(k, n+1):\n",
    "\n",
    "        prob_success += coeff_dict[exponent].subs({p_a: p_accept, p_r: p_reject, p_i: p_ignore, x: 1})\n",
    "    return prob_success\n"
   ]
  },
  {
   "cell_type": "markdown",
   "id": "bff41976",
   "metadata": {},
   "source": [
    "Now we compute the probability that at a given depth level $d$, enough parents receive enough approvals. We call this probability $P(A_d)$.\n",
    "\n",
    "Let $y$ be the number of parents that receive enough approvals from their children. In that case, the probability that enough parents remain in the tree is: \\\n",
    "$P(A_d) = P(y = \\lceil N_d * t \\rceil) + P(y = \\lceil N_d * t \\rceil + 1) + ... + P(y = N_d)$\n",
    "\n",
    "We compute this using the binomial probability formula, where $p_s$ is the probability of a single parent being successful (calculated above), and $N_d$ is the number of parents at depth level $d$. \n",
    "\n",
    "\n",
    "$P(A_d) = \\sum_{j = N_dt}^{N_d} \\binom{N_d}{j}(p_s)^j (1- p_s)^{N_d - j}$\n",
    "\n",
    "\n"
   ]
  },
  {
   "cell_type": "code",
   "execution_count": 19,
   "id": "b22632fb",
   "metadata": {},
   "outputs": [],
   "source": [
    "def binomial_probability(p_success:float, n:int, k:int)-> float:\n",
    "        \"\"\"your good old binomial probability formula.\"\"\"\n",
    "        n_choice_k = math.factorial(n)/(math.factorial(k) * math.factorial(n-k))\n",
    "        binomial_prob = n_choice_k * ((p_success ** k) * ((1-p_success) ** (n-k)))\n",
    "        return binomial_prob"
   ]
  },
  {
   "cell_type": "code",
   "execution_count": 20,
   "id": "4e687a75",
   "metadata": {},
   "outputs": [],
   "source": [
    "def probability_of_success_at_depth_d(p_success:float, N:int, t:float)->float:\n",
    "    \"\"\"p_s: probability of ENOUGH parents receiving enough approvals from their n_d children\n",
    "    N: number of parents in that depth level\n",
    "    t: threshold\n",
    "    \n",
    "    returns: probability of enough PARENTS succeeding at depth level d\"\"\"\n",
    "    k = int(np.ceil(N*t))\n",
    "\n",
    "\n",
    "    # Calculate the binomial probability\n",
    "    prob_sucess_depth = 0\n",
    "\n",
    "    #summing over all the possible valid outcomes. (ie: from getting k approvals, to k+1, k+2, ... n)\n",
    "    for i in range(k, N+1):\n",
    "        #print(i)\n",
    "        binomial_prob= binomial_probability(p_success, N, i)\n",
    "        prob_sucess_depth += binomial_prob\n",
    "    return prob_sucess_depth\n"
   ]
  },
  {
   "cell_type": "code",
   "execution_count": 21,
   "id": "529339b4",
   "metadata": {},
   "outputs": [],
   "source": [
    "def parent_array(height:int, branching_factor:list):\n",
    "    \"\"\"Returns list where each element is the number of parents at its index's depth level.\n",
    "    e.g: N_d_array[0] = 1 means there is one parent at depth level 0.\n",
    "    \n",
    "    inputs: \n",
    "    height: height of the tree\n",
    "    branching_factor: list where each element is the branching factor of its index's depth level. \n",
    "    branching_factor[height] must always = 0, as leaves of tree should have no children.\"\"\"\n",
    "\n",
    "    assert len(branching_factor) -1 == height\n",
    "    assert branching_factor[height] == 0\n",
    "    N_d_array = []\n",
    "    for d in range(len(branching_factor)):\n",
    "        #print(branching_factor[:d])\n",
    "        \n",
    "        neighbours = branching_factor[:d]\n",
    "        N_d = 1\n",
    "        for n in neighbours:\n",
    "            N_d = N_d * n\n",
    "            #print(N_d)\n",
    "        N_d_array.append(N_d)\n",
    "    return N_d_array\n"
   ]
  },
  {
   "cell_type": "code",
   "execution_count": 43,
   "id": "7ba1c500",
   "metadata": {},
   "outputs": [],
   "source": [
    "def prob_TCA_True(height, branching_factor, threshold):\n",
    "    total_prob_sucess = 1\n",
    "    \n"
   ]
  },
  {
   "cell_type": "code",
   "execution_count": 22,
   "id": "970056df",
   "metadata": {},
   "outputs": [
    {
     "name": "stdout",
     "output_type": "stream",
     "text": [
      "0.0156250000000000\n",
      "0.0156250000000000\n"
     ]
    }
   ],
   "source": [
    "height = 1\n",
    "branching_factor = [6, 0]\n",
    "threshold = 1\n",
    "\n",
    "#array with number of parents per each depth level\n",
    "N_d = parent_array(height=height, branching_factor=branching_factor)\n",
    "\n",
    "x, symbolic_n = sp.symbols('x, n')\n",
    "p_a, p_r, p_i = sp.symbols('p_a, p_r, p_i')\n",
    "\n",
    "#TODO: placeholder, in simulator will feed the values of the probabilities from the for loop.\n",
    "prob_accept, prob_reject, prob_ignore = 0.5, 0.3, 0.2\n",
    "\n",
    "total_probability = 1\n",
    "for d in range(height-1, -1, -1):\n",
    "        n = branching_factor[d]\n",
    "        k = int(np.ceil(branching_factor[d] * threshold))\n",
    "        #print(d, n, N_d[d])\n",
    "\n",
    "        #NOTE here p_a, p_r, p_i are symbolic sympy variables\n",
    "        g = generating_function(x, p_a, p_r, p_i, symbolic_n)\n",
    "        expanded_g = sub_neighbours_into_g(g, symbolic_n, n)\n",
    "        coeffs_dict = coefficients_g(expanded_g, x)\n",
    "\n",
    "        #NOTE here prob_accept, prob_reject, prob_ignore are literal float values\n",
    "        p_parent_success = prob_success_single_parent_at_depth_d(coeffs_dict, n, k, prob_accept, prob_reject, prob_ignore)\n",
    "\n",
    "        p_A_d = probability_of_success_at_depth_d(p_parent_success, N_d[d], threshold)\n",
    "        print(p_A_d)\n",
    "        total_probability *= p_A_d\n",
    "print(total_probability)\n",
    "        "
   ]
  },
  {
   "cell_type": "code",
   "execution_count": 23,
   "id": "e4adc77b",
   "metadata": {},
   "outputs": [],
   "source": [
    "x, symbolic_n = sp.symbols('x, n')\n",
    "p_a, p_r, p_i = sp.symbols('p_a, p_r, p_i')\n",
    "\n",
    "#TODO: this is a bit dangerous, as * unpacks by order, not by name. Should change to name.\n",
    "g_symbolic_variables = (x, p_a, p_r, p_i, symbolic_n) \n",
    "\n",
    "#TODO: placeholder, in simulator will feed the values of the probabilities from the for loop.\n",
    "prob_accept, prob_reject, prob_ignore = 0.5, 0.3, 0.2"
   ]
  },
  {
   "cell_type": "code",
   "execution_count": 29,
   "id": "b69c488a",
   "metadata": {},
   "outputs": [
    {
     "name": "stdout",
     "output_type": "stream",
     "text": [
      "(p_a*x + p_i + p_r/x)**n\n",
      "(p_a*x + p_i + p_r/x)**n\n",
      "(p_a*x + p_i + p_r/x)**n\n"
     ]
    }
   ],
   "source": [
    "g = generating_function(x, p_a, p_r, p_i, symbolic_n)\n",
    "print(g)\n",
    "\n",
    "g1 = generating_function(*g_symbolic_variables)\n",
    "print(g1)\n",
    "\n",
    "kwargs = {'x': x, 'p_a': p_a, 'p_r': p_r, 'p_i': p_i, 'n': symbolic_n}\n",
    "\n",
    "\n",
    "g2 = generating_function(**kwargs)\n",
    "print(g2)"
   ]
  },
  {
   "cell_type": "code",
   "execution_count": 33,
   "id": "7ae2b107",
   "metadata": {},
   "outputs": [
    {
     "name": "stdout",
     "output_type": "stream",
     "text": [
      "p_a**6*x**6 + 6*p_a**5*p_i*x**5 + 6*p_a**5*p_r*x**4 + 15*p_a**4*p_i**2*x**4 + 30*p_a**4*p_i*p_r*x**3 + 15*p_a**4*p_r**2*x**2 + 20*p_a**3*p_i**3*x**3 + 60*p_a**3*p_i**2*p_r*x**2 + 60*p_a**3*p_i*p_r**2*x + 20*p_a**3*p_r**3 + 15*p_a**2*p_i**4*x**2 + 60*p_a**2*p_i**3*p_r*x + 90*p_a**2*p_i**2*p_r**2 + 60*p_a**2*p_i*p_r**3/x + 15*p_a**2*p_r**4/x**2 + 6*p_a*p_i**5*x + 30*p_a*p_i**4*p_r + 60*p_a*p_i**3*p_r**2/x + 60*p_a*p_i**2*p_r**3/x**2 + 30*p_a*p_i*p_r**4/x**3 + 6*p_a*p_r**5/x**4 + p_i**6 + 6*p_i**5*p_r/x + 15*p_i**4*p_r**2/x**2 + 20*p_i**3*p_r**3/x**3 + 15*p_i**2*p_r**4/x**4 + 6*p_i*p_r**5/x**5 + p_r**6/x**6\n",
      "{6: p_a**6, 5: 6*p_a**5*p_i, 4: 6*p_a**5*p_r + 15*p_a**4*p_i**2, 3: 30*p_a**4*p_i*p_r + 20*p_a**3*p_i**3, 2: 15*p_a**4*p_r**2 + 60*p_a**3*p_i**2*p_r + 15*p_a**2*p_i**4, 1: 60*p_a**3*p_i*p_r**2 + 60*p_a**2*p_i**3*p_r + 6*p_a*p_i**5, 0: 20*p_a**3*p_r**3 + 90*p_a**2*p_i**2*p_r**2 + 30*p_a*p_i**4*p_r + p_i**6, -1: 60*p_a**2*p_i*p_r**3 + 60*p_a*p_i**3*p_r**2 + 6*p_i**5*p_r, -2: 15*p_a**2*p_r**4 + 60*p_a*p_i**2*p_r**3 + 15*p_i**4*p_r**2, -3: 30*p_a*p_i*p_r**4 + 20*p_i**3*p_r**3, -4: 6*p_a*p_r**5 + 15*p_i**2*p_r**4, -5: 6*p_i*p_r**5, -6: p_r**6}\n",
      "p_a**6*x**6 + 6*p_a**5*p_i*x**5 + 6*p_a**5*p_r*x**4 + 15*p_a**4*p_i**2*x**4 + 30*p_a**4*p_i*p_r*x**3 + 15*p_a**4*p_r**2*x**2 + 20*p_a**3*p_i**3*x**3 + 60*p_a**3*p_i**2*p_r*x**2 + 60*p_a**3*p_i*p_r**2*x + 20*p_a**3*p_r**3 + 15*p_a**2*p_i**4*x**2 + 60*p_a**2*p_i**3*p_r*x + 90*p_a**2*p_i**2*p_r**2 + 60*p_a**2*p_i*p_r**3/x + 15*p_a**2*p_r**4/x**2 + 6*p_a*p_i**5*x + 30*p_a*p_i**4*p_r + 60*p_a*p_i**3*p_r**2/x + 60*p_a*p_i**2*p_r**3/x**2 + 30*p_a*p_i*p_r**4/x**3 + 6*p_a*p_r**5/x**4 + p_i**6 + 6*p_i**5*p_r/x + 15*p_i**4*p_r**2/x**2 + 20*p_i**3*p_r**3/x**3 + 15*p_i**2*p_r**4/x**4 + 6*p_i*p_r**5/x**5 + p_r**6/x**6\n",
      "{6: p_a**6, 5: 6*p_a**5*p_i, 4: 6*p_a**5*p_r + 15*p_a**4*p_i**2, 3: 30*p_a**4*p_i*p_r + 20*p_a**3*p_i**3, 2: 15*p_a**4*p_r**2 + 60*p_a**3*p_i**2*p_r + 15*p_a**2*p_i**4, 1: 60*p_a**3*p_i*p_r**2 + 60*p_a**2*p_i**3*p_r + 6*p_a*p_i**5, 0: 20*p_a**3*p_r**3 + 90*p_a**2*p_i**2*p_r**2 + 30*p_a*p_i**4*p_r + p_i**6, -1: 60*p_a**2*p_i*p_r**3 + 60*p_a*p_i**3*p_r**2 + 6*p_i**5*p_r, -2: 15*p_a**2*p_r**4 + 60*p_a*p_i**2*p_r**3 + 15*p_i**4*p_r**2, -3: 30*p_a*p_i*p_r**4 + 20*p_i**3*p_r**3, -4: 6*p_a*p_r**5 + 15*p_i**2*p_r**4, -5: 6*p_i*p_r**5, -6: p_r**6}\n",
      "0\n",
      "True\n"
     ]
    }
   ],
   "source": [
    "expanded_g = sub_neighbours_into_g(g, kwargs['n'], n)\n",
    "coeffs_dict = coefficients_g(expanded_g, kwargs['x'])\n",
    "\n",
    "print(expanded_g)\n",
    "print(coeffs_dict)\n",
    "\n",
    "expanded_g2 = sub_neighbours_into_g(g, symbolic_n, n)\n",
    "coeffs_dict2 = coefficients_g(expanded_g, x)\n",
    "print(expanded_g2)\n",
    "print(coeffs_dict2)\n",
    "\n",
    "print(expanded_g - expanded_g2)\n",
    "print(coeffs_dict == coeffs_dict2)\n"
   ]
  },
  {
   "cell_type": "code",
   "execution_count": 27,
   "id": "96e92656",
   "metadata": {},
   "outputs": [
    {
     "name": "stdout",
     "output_type": "stream",
     "text": [
      "0.352335000000000\n",
      "0.352335000000000\n"
     ]
    }
   ],
   "source": [
    "prob_kwargs = {'p_accept': prob_accept, 'p_reject': prob_reject, 'p_ignore': prob_ignore}\n",
    "p1 = prob_success_single_parent_at_depth_d(coeffs_dict, 2, 1, **prob_kwargs)\n",
    "\n",
    "print(p1)\n",
    "\n",
    "p2 = prob_success_single_parent_at_depth_d(coeffs_dict, 2, 1, prob_accept, prob_reject, prob_ignore)\n",
    "print(p2)"
   ]
  }
 ],
 "metadata": {
  "kernelspec": {
   "display_name": "Python 3",
   "language": "python",
   "name": "python3"
  },
  "language_info": {
   "codemirror_mode": {
    "name": "ipython",
    "version": 3
   },
   "file_extension": ".py",
   "mimetype": "text/x-python",
   "name": "python",
   "nbconvert_exporter": "python",
   "pygments_lexer": "ipython3",
   "version": "3.10.8"
  }
 },
 "nbformat": 4,
 "nbformat_minor": 5
}
