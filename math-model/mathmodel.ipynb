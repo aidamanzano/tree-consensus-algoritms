{
 "cells": [
  {
   "cell_type": "markdown",
   "id": "c2b3f539",
   "metadata": {},
   "source": [
    "## Math model scripts\n"
   ]
  },
  {
   "cell_type": "markdown",
   "id": "4fe9a6ec",
   "metadata": {},
   "source": [
    "### first we create a generating function to keep track of the probability that the number of approvals = k\n",
    "### the generating function is in the form:\n",
    "$g(x) = p_a(x)^1 + p_r(x)^-1 + p_i(x)^0$\n",
    "for a single approval\n",
    "\n",
    "for n many agents sending an approval, the generating function looks like:\n",
    "$g(x)^n = (p_a(x)^1 + p_r(x)^-1 + p_i(x)^0)^n$"
   ]
  },
  {
   "cell_type": "code",
   "execution_count": 1,
   "id": "1ed28c4d",
   "metadata": {},
   "outputs": [],
   "source": [
    "import sympy as sp\n",
    "#we will manipulate the generating function symbolically to compute the probability of success in a single depth level for a single parent\n",
    "import math\n",
    "import numpy as np"
   ]
  },
  {
   "cell_type": "code",
   "execution_count": null,
   "id": "188fc3d7",
   "metadata": {},
   "outputs": [],
   "source": [
    "def generating_function(x:sp.Symbol, p_a:sp.Symbol, p_r:sp.Symbol, p_i:sp.Symbol, n:sp.Symbol)->sp.Expr:\n",
    "\n",
    "    g = (p_a*(x**1) + p_r*(x**-1) + p_i*(x**0))**n\n",
    "    return g"
   ]
  },
  {
   "cell_type": "code",
   "execution_count": null,
   "id": "d2c7feb2",
   "metadata": {},
   "outputs": [],
   "source": [
    "x, n = sp.symbols('x, n')\n",
    "p_a, p_r, p_i = sp.symbols('p_a, p_r, p_i')\n",
    "\n",
    "g = generating_function(x, p_a, p_r, p_i, n)"
   ]
  },
  {
   "cell_type": "code",
   "execution_count": null,
   "id": "2e157e84",
   "metadata": {},
   "outputs": [],
   "source": [
    "#here we will sub into n the number of neighbours a parent has at depth d\n",
    "gn = g.subs(n, 2)\n",
    "expanded_gn = sp.expand(gn)"
   ]
  },
  {
   "cell_type": "code",
   "execution_count": null,
   "id": "28621c77",
   "metadata": {},
   "outputs": [],
   "source": [
    "#TODO: make this into a function to return coeff_dict\n",
    "# Dictionary to hold coefficients by power\n",
    "coeff_dict = {}\n",
    "\n",
    "# Break the expression into terms and analyze powers\n",
    "for term in expanded_gn.as_ordered_terms():\n",
    "    term = sp.expand(term)\n",
    "    coeff, power = term.as_coeff_exponent(x)\n",
    "    coeff_dict[power] = coeff_dict.get(power, 0) + coeff\n",
    "\n",
    "# Sort and display coefficients by power of x\n",
    "for power in sorted(coeff_dict):\n",
    "    print(f\"Coefficient of x^{power}: {coeff_dict[power]}\")"
   ]
  },
  {
   "cell_type": "code",
   "execution_count": null,
   "id": "27ad5d5d",
   "metadata": {},
   "outputs": [],
   "source": [
    "#TODO: also make into a function to return prob success per depth level\n",
    "#range(np.ceil(n_d*t), n_d +1)\n",
    "prob_success_at_level_d = 0\n",
    "for exponent in range(-2, 3):\n",
    "    #print('coefficient', coeff_dict[exponent])\n",
    "    print('subbed in coefficient', coeff_dict[exponent].subs({p_a: 0.5, p_r: 0.3, p_i: 0.2, x: 1}))\n",
    "    prob_success_at_level_d += coeff_dict[exponent].subs({p_a: 0.5, p_r: 0.3, p_i: 0.2, x: 1})\n",
    "print('SUCCESS AT DEPTH LEVEL D', prob_success_at_level_d)\n"
   ]
  },
  {
   "cell_type": "code",
   "execution_count": null,
   "id": "b22632fb",
   "metadata": {},
   "outputs": [],
   "source": [
    "def binomial_probability(p_a, n, k):\n",
    "        n_choice_k = math.factorial(n)/(math.factorial(k) * math.factorial(n-k))\n",
    "        binomial_prob = n_choice_k * ((p_a ** k) * ((1-p_a) ** (n-k)))\n",
    "        return binomial_prob"
   ]
  },
  {
   "cell_type": "code",
   "execution_count": null,
   "id": "4e687a75",
   "metadata": {},
   "outputs": [],
   "source": [
    "def probability_of_success(p_s:float, N:int, t:float)->float:\n",
    "    \"\"\"p_s: probability of a single parent receiving enough approvals from their n_d children\n",
    "    N: number of parents in that depth level\n",
    "    t: threshold\n",
    "    \n",
    "    returns: probability of enough PARENTS succeeding at depth level d\"\"\"\n",
    "    k = int(np.ceil(N*t))\n",
    "\n",
    "    for i in range(N, k):\n",
    "\n",
    "        # Calculate the binomial probability\n",
    "        prob_sucess_depth = 0\n",
    "\n",
    "        #summing over all the possible valid outcomes. (ie: from getting k approvals, to k+1, k+2, ... n)\n",
    "        for i in range(k, N+1):\n",
    "            #print(i)\n",
    "            binomial_prob= binomial_probability(p_s, n, i)\n",
    "            prob_sucess_depth += binomial_prob\n",
    "    return prob_sucess_depth\n"
   ]
  },
  {
   "cell_type": "code",
   "execution_count": null,
   "id": "7ba1c500",
   "metadata": {},
   "outputs": [],
   "source": [
    "def prob_TCA_True(height, branching_factor, threshold):\n",
    "    total_prob_sucess = 1\n",
    "    for d in range(height-1, -1, -1):\n",
    "        n = branching_factor[d]\n",
    "        k = branching_factor[d] * threshold\n"
   ]
  }
 ],
 "metadata": {
  "kernelspec": {
   "display_name": "Python 3",
   "language": "python",
   "name": "python3"
  },
  "language_info": {
   "codemirror_mode": {
    "name": "ipython",
    "version": 3
   },
   "file_extension": ".py",
   "mimetype": "text/x-python",
   "name": "python",
   "nbconvert_exporter": "python",
   "pygments_lexer": "ipython3",
   "version": "3.10.8"
  }
 },
 "nbformat": 4,
 "nbformat_minor": 5
}
