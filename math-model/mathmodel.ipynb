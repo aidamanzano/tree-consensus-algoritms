{
 "cells": [
  {
   "cell_type": "markdown",
   "id": "c2b3f539",
   "metadata": {},
   "source": [
    "## Math model scripts\n"
   ]
  },
  {
   "cell_type": "markdown",
   "id": "4fe9a6ec",
   "metadata": {},
   "source": [
    "### first we create a generating function to keep track of the probability that the number of approvals = k\n",
    "### the generating function is in the form:\n",
    "$g(x) = p_a(x)^1 + p_r(x)^-1 + p_i(x)^0$\n",
    "for a single approval\n",
    "\n",
    "for n many agents sending an approval, the generating function looks like:\n",
    "$g(x)^n = (p_a(x)^1 + p_r(x)^-1 + p_i(x)^0)^n$"
   ]
  },
  {
   "cell_type": "code",
   "execution_count": 1,
   "id": "1ed28c4d",
   "metadata": {},
   "outputs": [],
   "source": [
    "import sympy as sp\n",
    "#we will manipulate the generating function symbolically to compute the probability of success in a single depth level for a single parent\n",
    "import math\n",
    "import numpy as np"
   ]
  },
  {
   "cell_type": "code",
   "execution_count": 3,
   "id": "188fc3d7",
   "metadata": {},
   "outputs": [],
   "source": [
    "def generating_function(x:sp.Symbol, p_a:sp.Symbol, p_r:sp.Symbol, p_i:sp.Symbol, n:sp.Symbol)->sp.Expr:\n",
    "\n",
    "    g = (p_a*(x**1) + p_r*(x**-1) + p_i*(x**0))**n\n",
    "    return g"
   ]
  },
  {
   "cell_type": "code",
   "execution_count": 5,
   "id": "d2c7feb2",
   "metadata": {},
   "outputs": [
    {
     "name": "stdout",
     "output_type": "stream",
     "text": [
      "<class 'sympy.core.power.Pow'>\n"
     ]
    }
   ],
   "source": [
    "x, n = sp.symbols('x, n')\n",
    "p_a, p_r, p_i = sp.symbols('p_a, p_r, p_i')\n",
    "\n",
    "g = generating_function(x, p_a, p_r, p_i, n)\n",
    "print(type(g))"
   ]
  },
  {
   "cell_type": "code",
   "execution_count": 10,
   "id": "2e157e84",
   "metadata": {},
   "outputs": [],
   "source": [
    "#here we will sub into n the number of neighbours a parent has at depth d\n",
    "\n",
    "def sub_neighbours_into_g(g:sp.Expr, n_symbolic:sp.Symbol, n:int):\n",
    "    gn = g.subs(n_symbolic, n)\n",
    "    expanded_gn = sp.expand(gn)\n",
    "    return expanded_gn"
   ]
  },
  {
   "cell_type": "code",
   "execution_count": 17,
   "id": "28621c77",
   "metadata": {},
   "outputs": [],
   "source": [
    "def coefficients_g(expanded_generating_function:sp.Expr, x:sp.Symbol)-> dict:\n",
    "    \"\"\"extracting coefficients of x from the expanded generating function.\n",
    "    expanded_generating_function: expanded generating function: sympy expression\n",
    "    x: variable to extract coefficients from. \n",
    "\n",
    "    returns: dict:{power: coefficient}\n",
    "    \"\"\"\n",
    "    # Dictionary to hold coefficients by power\n",
    "    coeff_dict = {}\n",
    "\n",
    "    # Break the expression into terms and analyze powers\n",
    "    for term in expanded_generating_function.as_ordered_terms():\n",
    "        term = sp.expand(term)\n",
    "        coeff, power = term.as_coeff_exponent(x)\n",
    "        coeff_dict[power] = coeff_dict.get(power, 0) + coeff\n",
    "\n",
    "    return coeff_dict"
   ]
  },
  {
   "cell_type": "code",
   "execution_count": 18,
   "id": "27ad5d5d",
   "metadata": {},
   "outputs": [],
   "source": [
    "def prob_success_single_parent_at_depth_d(coeff_dict:dict, n:int, k:int, p_accept:float, p_reject:float, p_ignore:float):\n",
    "    \"\"\"probability of a single parent receiving enough approvals at a given depth level d\"\"\"\n",
    "    #range(np.ceil(n_d*t), n_d +1)\n",
    "    prob_success = 0\n",
    "    for exponent in range(k, n+1):\n",
    "\n",
    "        prob_success += coeff_dict[exponent].subs({p_a: p_accept, p_r: p_reject, p_i: p_ignore, x: 1})\n",
    "    return prob_success\n"
   ]
  },
  {
   "cell_type": "code",
   "execution_count": 19,
   "id": "b22632fb",
   "metadata": {},
   "outputs": [],
   "source": [
    "def binomial_probability(p_success, n, k):\n",
    "        n_choice_k = math.factorial(n)/(math.factorial(k) * math.factorial(n-k))\n",
    "        binomial_prob = n_choice_k * ((p_success ** k) * ((1-p_success) ** (n-k)))\n",
    "        return binomial_prob"
   ]
  },
  {
   "cell_type": "code",
   "execution_count": 25,
   "id": "4e687a75",
   "metadata": {},
   "outputs": [],
   "source": [
    "def probability_of_success_at_depth_d(p_success:float, N:int, t:float)->float:\n",
    "    \"\"\"p_s: probability of ENOUGH parents receiving enough approvals from their n_d children\n",
    "    N: number of parents in that depth level\n",
    "    t: threshold\n",
    "    \n",
    "    returns: probability of enough PARENTS succeeding at depth level d\"\"\"\n",
    "    k = int(np.ceil(N*t))\n",
    "\n",
    "\n",
    "    # Calculate the binomial probability\n",
    "    prob_sucess_depth = 0\n",
    "\n",
    "    #summing over all the possible valid outcomes. (ie: from getting k approvals, to k+1, k+2, ... n)\n",
    "    for i in range(k, N+1):\n",
    "        #print(i)\n",
    "        binomial_prob= binomial_probability(p_success, N, i)\n",
    "        prob_sucess_depth += binomial_prob\n",
    "    return prob_sucess_depth\n"
   ]
  },
  {
   "cell_type": "code",
   "execution_count": null,
   "id": "529339b4",
   "metadata": {},
   "outputs": [
    {
     "name": "stdout",
     "output_type": "stream",
     "text": [
      "3\n"
     ]
    }
   ],
   "source": [
    "def parent_array(height, branching_factor):\n",
    "    assert len(branching_factor) -1 == height\n",
    "    N_d_array = []\n",
    "    for d in range(len(branching_factor)):\n",
    "        #print(branching_factor[:d])\n",
    "        \n",
    "        neighbours = branching_factor[:d]\n",
    "        N_d = 1\n",
    "        for n in neighbours:\n",
    "            N_d = N_d * n\n",
    "            #print(N_d)\n",
    "        N_d_array.append(N_d)\n",
    "    return N_d_array\n"
   ]
  },
  {
   "cell_type": "code",
   "execution_count": null,
   "id": "7ba1c500",
   "metadata": {},
   "outputs": [],
   "source": [
    "def prob_TCA_True(height, branching_factor, threshold):\n",
    "    total_prob_sucess = 1\n",
    "    \n"
   ]
  },
  {
   "cell_type": "code",
   "execution_count": 33,
   "id": "970056df",
   "metadata": {},
   "outputs": [
    {
     "name": "stdout",
     "output_type": "stream",
     "text": [
      "0.0156250000000000\n",
      "0.0156250000000000\n"
     ]
    }
   ],
   "source": [
    "height = 1\n",
    "branching_factor = [6, 0]\n",
    "threshold = 1\n",
    "\n",
    "#array with number of parents per each depth level\n",
    "N_d = parent_array(height=height, branching_factor=branching_factor)\n",
    "\n",
    "x, symbolic_n = sp.symbols('x, n')\n",
    "p_a, p_r, p_i = sp.symbols('p_a, p_r, p_i')\n",
    "\n",
    "#TODO: placeholder, in simulator will feed the values of the probabilities from the for loop.\n",
    "prob_accept, prob_reject, prob_ignore = 0.5, 0.3, 0.2\n",
    "\n",
    "total_probability = 1\n",
    "for d in range(height-1, -1, -1):\n",
    "        n = branching_factor[d]\n",
    "        k = int(np.ceil(branching_factor[d] * threshold))\n",
    "        #print(d, n, N_d[d])\n",
    "\n",
    "        #NOTE here p_a, p_r, p_i are symbolic sympy variables\n",
    "        g = generating_function(x, p_a, p_r, p_i, symbolic_n)\n",
    "        expanded_g = sub_neighbours_into_g(g, symbolic_n, n)\n",
    "        coeffs_dict = coefficients_g(expanded_g, x)\n",
    "\n",
    "        #NOTE here prob_accept, prob_reject, prob_ignore are literal float values\n",
    "        p_parent_success = prob_success_single_parent_at_depth_d(coeffs_dict, n, k, prob_accept, prob_reject, prob_ignore)\n",
    "\n",
    "        p_A_d = probability_of_success_at_depth_d(p_parent_success, N_d[d], threshold)\n",
    "        print(p_A_d)\n",
    "        total_probability *= p_A_d\n",
    "print(total_probability)\n",
    "        "
   ]
  }
 ],
 "metadata": {
  "kernelspec": {
   "display_name": "Python 3",
   "language": "python",
   "name": "python3"
  },
  "language_info": {
   "codemirror_mode": {
    "name": "ipython",
    "version": 3
   },
   "file_extension": ".py",
   "mimetype": "text/x-python",
   "name": "python",
   "nbconvert_exporter": "python",
   "pygments_lexer": "ipython3",
   "version": "3.10.8"
  }
 },
 "nbformat": 4,
 "nbformat_minor": 5
}
