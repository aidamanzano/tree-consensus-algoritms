{
 "cells": [
  {
   "cell_type": "code",
   "execution_count": null,
   "metadata": {},
   "outputs": [],
   "source": [
    "from components.agent import Agent\n",
    "class Tree:\n",
    "    def __init__(self, prover:Agent, depth_level: int, nodes_per_depth):\n",
    "        self.prover = prover\n",
    "        self.depth = depth_level\n",
    "        self.n_d = nodes_per_depth\n",
    "        self.nodes = [[prover]]\n",
    "\n",
    "        #check the length of the vector containing the number of children \n",
    "        #at each depth level matches the number of depth levels there are.\n",
    "        assert len(nodes_per_depth) == depth_level\n",
    "\n",
    "        for i in range(self.depth):\n",
    "            nodes_per_depth[depth]\n"
   ]
  },
  {
   "cell_type": "code",
   "execution_count": 1,
   "metadata": {},
   "outputs": [],
   "source": [
    "from components.agent import Agent\n",
    "neighbour_list = [Agent(p_response=[0.1, 0.5, 0.4], p_claim=[0.1, 0.5, 0.4], environment_bounds=[[0, 1], [0,1]]) for _ in range(8)]"
   ]
  },
  {
   "cell_type": "code",
   "execution_count": 2,
   "metadata": {},
   "outputs": [
    {
     "data": {
      "text/plain": [
       "[<components.agent.Agent at 0x10986e970>,\n",
       " <components.agent.Agent at 0x10986ed60>,\n",
       " <components.agent.Agent at 0x1098793d0>,\n",
       " <components.agent.Agent at 0x10986e220>,\n",
       " <components.agent.Agent at 0x10986e1f0>,\n",
       " <components.agent.Agent at 0x10a43f880>,\n",
       " <components.agent.Agent at 0x10a472c70>,\n",
       " <components.agent.Agent at 0x10998aa30>]"
      ]
     },
     "execution_count": 2,
     "metadata": {},
     "output_type": "execute_result"
    }
   ],
   "source": [
    "neighbour_list"
   ]
  },
  {
   "cell_type": "code",
   "execution_count": 3,
   "metadata": {},
   "outputs": [
    {
     "name": "stdout",
     "output_type": "stream",
     "text": [
      "[[<components.agent.Agent object at 0x10986e970>], [<components.agent.Agent object at 0x1098793d0>, <components.agent.Agent object at 0x10986ed60>], [<components.agent.Agent object at 0x10986e220>, <components.agent.Agent object at 0x10986e1f0>, <components.agent.Agent object at 0x10986e970>], [<components.agent.Agent object at 0x1098793d0>, <components.agent.Agent object at 0x10986e220>, <components.agent.Agent object at 0x10986ed60>], [<components.agent.Agent object at 0x10998aa30>, <components.agent.Agent object at 0x10986ed60>], [<components.agent.Agent object at 0x1098793d0>, <components.agent.Agent object at 0x10a43f880>], [<components.agent.Agent object at 0x10986ed60>, <components.agent.Agent object at 0x10998aa30>]]\n"
     ]
    }
   ],
   "source": [
    "from random import sample\n",
    "class Tree:\n",
    "\n",
    "    def __init__(self, prover, depth, number_of_nodes_per_depth, agents_list):\n",
    "        self.prover = prover\n",
    "        self.nodes = [[prover]]\n",
    "        self.depth = depth\n",
    "        self.n_d = number_of_nodes_per_depth\n",
    "\n",
    "        for depth_level in range(self.depth):\n",
    "            depth_level_node_list = []\n",
    "            for parent in self.nodes[depth_level]:\n",
    "                #children = sample(parent.neighghbours(), self.n_d[depth_level])\n",
    "                children = sample(agents_list, self.n_d[depth_level])\n",
    "                depth_level_node_list.append(children)\n",
    "            self.nodes.extend(depth_level_node_list)\n",
    "\n",
    "            \n",
    "                    \n",
    "prover = neighbour_list[0]\n",
    "tree1 = Tree(prover, 3, [2, 3, 2], neighbour_list)\n",
    "print(tree1.nodes)"
   ]
  },
  {
   "cell_type": "code",
   "execution_count": null,
   "metadata": {},
   "outputs": [],
   "source": [
    "treetest = [[prover]]\n",
    "num = [0, 2, 3]\n",
    "for d in range(1, 3):\n",
    "    depth_level_list = []\n",
    "    for n in range(num[d]):\n",
    "        depth_level_list.append(prover)\n",
    "    treetest.append(depth_level_list)\n",
    "print(treetest)"
   ]
  },
  {
   "cell_type": "code",
   "execution_count": null,
   "metadata": {},
   "outputs": [
    {
     "name": "stdout",
     "output_type": "stream",
     "text": [
      "[<components.agent.Agent object at 0x10d9b5190>, <components.agent.Agent object at 0x10d9b5d90>, <components.agent.Agent object at 0x10d9b5ee0>, <components.agent.Agent object at 0x10d9b5490>, <components.agent.Agent object at 0x10d9b58e0>, <components.agent.Agent object at 0x10d9b6c70>, <components.agent.Agent object at 0x10d9b6460>, <components.agent.Agent object at 0x10d9b6dc0>]\n",
      "dict_keys([(0.7539477347432397, 0.13382094388128052), (0.723689836599574, 0.5337886475843248), (0.4634255951566413, 0.5075319919814392), (0.6601040401405887, 0.5550484324299664), (0.8419078268604955, 0.42660649138835904), (0.9979253904822035, 0.8944486058074302), (0.18400638839959238, 0.12189683817514063), (0.007463397172302599, 0.614633695361099)])\n"
     ]
    }
   ],
   "source": [
    "import numpy as np\n",
    "from scipy.spatial import KDTree\n",
    "\n",
    "\n",
    "from components.agent import Agent\n",
    "agents_list = [Agent(p_response=[0.1, 0.5, 0.4], p_claim=[0.1, 0.5, 0.4], environment_bounds=[[0, 1], [0,1]]) for _ in range(8)]\n",
    "\n",
    "#agents_dict contains as keys the agents' positions, and the agent instance as the value. \n",
    "agent_dict = {(agent.x_position, agent.y_position):agent for agent in agents_list}\n",
    "print(list(agent_dict.values()))\n",
    "print(agent_dict.keys())\n"
   ]
  },
  {
   "cell_type": "code",
   "execution_count": null,
   "metadata": {},
   "outputs": [
    {
     "name": "stdout",
     "output_type": "stream",
     "text": [
      "<scipy.spatial._kdtree.KDTree object at 0x10d9f6d40>\n"
     ]
    }
   ],
   "source": [
    "tree = KDTree(list(agent_dict.keys()))\n",
    "print(tree)\n",
    "#we make a KD tree to efficiently find the neighbours with the agent positions as the data,\n",
    "#which are the agent_dict's keys.\n",
    "tree.query_ball_point(list(agent_dict.keys()), 0.5)\n",
    "\n",
    "#to get the nearset neighbours of an agent, we pass its position,\n",
    "#the function returns the indecies in the list of the agent_dict.keys() of the agents that are its neighbours,\n",
    "#but we want the actual agent, not its positions, so to retrieve them, we pass that index through the list of the agent VALUES\n",
    "neighbours_indicies = tree.query_ball_point((0.7042129320036289, 0.4333832138445979), 0.5)\n",
    "\n"
   ]
  },
  {
   "cell_type": "code",
   "execution_count": 18,
   "metadata": {},
   "outputs": [
    {
     "name": "stdout",
     "output_type": "stream",
     "text": [
      "<components.agent.Agent object at 0x10d9b5d90>\n"
     ]
    }
   ],
   "source": [
    "print(list(agent_dict.values())[1])"
   ]
  },
  {
   "cell_type": "code",
   "execution_count": 22,
   "metadata": {},
   "outputs": [
    {
     "name": "stdout",
     "output_type": "stream",
     "text": [
      "<components.agent.Agent object at 0x10d9b5190>\n",
      "<components.agent.Agent object at 0x10d9b5d90>\n",
      "<components.agent.Agent object at 0x10d9b5ee0>\n",
      "<components.agent.Agent object at 0x10d9b5490>\n",
      "<components.agent.Agent object at 0x10d9b58e0>\n"
     ]
    }
   ],
   "source": [
    "for neighbour_index in neighbours_indicies:\n",
    "    neighbour_agent = list(agent_dict.values())[neighbour_index]\n",
    "    print(neighbour_agent)"
   ]
  },
  {
   "cell_type": "code",
   "execution_count": 15,
   "metadata": {},
   "outputs": [
    {
     "name": "stdout",
     "output_type": "stream",
     "text": [
      "4\n"
     ]
    }
   ],
   "source": [
    "list1 = [None, 2, 3, 3]\n",
    "depth = 3\n",
    "print(len(list1))\n",
    "assert len(list1) - 1 == depth"
   ]
  },
  {
   "cell_type": "code",
   "execution_count": 41,
   "metadata": {},
   "outputs": [
    {
     "name": "stdout",
     "output_type": "stream",
     "text": [
      "True\n"
     ]
    }
   ],
   "source": [
    "\n",
    "# Create a random generator instance\n",
    "rng = np.random.default_rng()\n",
    "\n",
    "# Define probabilities\n",
    "prob_vector = [0.1, 0.5, 0.4]\n",
    "\n",
    "# Define possible choices\n",
    "choices = [True, False, None]\n",
    "\n",
    "# Draw a random choice based on probabilities\n",
    "output = rng.choice(choices, p=prob_vector)\n",
    "\n",
    "print(output)"
   ]
  }
 ],
 "metadata": {
  "kernelspec": {
   "display_name": "Python 3",
   "language": "python",
   "name": "python3"
  },
  "language_info": {
   "codemirror_mode": {
    "name": "ipython",
    "version": 3
   },
   "file_extension": ".py",
   "mimetype": "text/x-python",
   "name": "python",
   "nbconvert_exporter": "python",
   "pygments_lexer": "ipython3",
   "version": "3.9.15"
  }
 },
 "nbformat": 4,
 "nbformat_minor": 2
}
