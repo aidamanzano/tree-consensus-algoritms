{
 "cells": [
  {
   "cell_type": "code",
   "execution_count": null,
   "metadata": {},
   "outputs": [],
   "source": [
    "from components.agent import Agent\n",
    "class Tree:\n",
    "    def __init__(self, prover:Agent, depth_level: int, nodes_per_depth):\n",
    "        self.prover = prover\n",
    "        self.depth = depth_level\n",
    "        self.n_d = nodes_per_depth\n",
    "        self.nodes = [[prover]]\n",
    "\n",
    "        #check the length of the vector containing the number of children \n",
    "        #at each depth level matches the number of depth levels there are.\n",
    "        assert len(nodes_per_depth) == depth_level\n",
    "\n",
    "        for i in range(self.depth):\n",
    "            nodes_per_depth[depth]\n"
   ]
  },
  {
   "cell_type": "code",
   "execution_count": 1,
   "metadata": {},
   "outputs": [],
   "source": [
    "from components.agent import Agent\n",
    "neighbour_list = [Agent(p_response=[0.1, 0.5, 0.4], p_claim=[0.1, 0.5, 0.4], environment_bounds=[[0, 1], [0,1]]) for _ in range(8)]"
   ]
  },
  {
   "cell_type": "code",
   "execution_count": 2,
   "metadata": {},
   "outputs": [
    {
     "data": {
      "text/plain": [
       "[<components.agent.Agent at 0x10773e740>,\n",
       " <components.agent.Agent at 0x10774be50>,\n",
       " <components.agent.Agent at 0x107ed27d0>,\n",
       " <components.agent.Agent at 0x107ed2a70>,\n",
       " <components.agent.Agent at 0x107ed2aa0>,\n",
       " <components.agent.Agent at 0x107ed29e0>,\n",
       " <components.agent.Agent at 0x107f06290>,\n",
       " <components.agent.Agent at 0x107f06350>]"
      ]
     },
     "execution_count": 2,
     "metadata": {},
     "output_type": "execute_result"
    }
   ],
   "source": [
    "neighbour_list"
   ]
  },
  {
   "cell_type": "code",
   "execution_count": null,
   "metadata": {},
   "outputs": [],
   "source": [
    "from random import sample\n",
    "class Tree:\n",
    "\n",
    "    def __init__(self, prover, depth, number_of_nodes_per_depth, agents_list):\n",
    "        self.prover = prover\n",
    "        self.nodes = [[prover]]\n",
    "        self.depth = depth\n",
    "        self.n_d = number_of_nodes_per_depth\n",
    "\n",
    "        for depth_level in range(self.depth):\n",
    "            depth_level_node_list = []\n",
    "            for parent in self.nodes[depth_level]:\n",
    "                #children = sample(parent.neighghbours(), self.n_d[depth_level])\n",
    "                children = sample(agents_list, self.n_d[depth_level])\n",
    "                depth_level_node_list.append(children)\n",
    "            self.nodes.extend(depth_level_node_list)\n",
    "\n",
    "            \n",
    "                    \n",
    "prover = neighbour_list[0]\n",
    "tree1 = Tree(prover, 3, [2, 3, 2], neighbour_list)\n",
    "print(tree1.nodes)"
   ]
  },
  {
   "cell_type": "code",
   "execution_count": null,
   "metadata": {},
   "outputs": [],
   "source": [
    "treetest = [[prover]]\n",
    "num = [0, 2, 3]\n",
    "for d in range(1, 3):\n",
    "    depth_level_list = []\n",
    "    for n in range(num[d]):\n",
    "        depth_level_list.append(prover)\n",
    "    treetest.append(depth_level_list)\n",
    "print(treetest)"
   ]
  },
  {
   "cell_type": "code",
   "execution_count": null,
   "metadata": {},
   "outputs": [],
   "source": [
    "import numpy as np\n",
    "from scipy.spatial import KDTree\n",
    "\n",
    "\n",
    "from components.agent import Agent\n",
    "agents_list = [Agent(p_response=[0.1, 0.5, 0.4], p_claim=[0.1, 0.5, 0.4], environment_bounds=[[0, 1], [0,1]]) for _ in range(8)]\n",
    "\n",
    "#agents_dict contains as keys the agents' positions, and the agent instance as the value. \n",
    "agent_dict = {(agent.x_position, agent.y_position):agent for agent in agents_list}\n",
    "print(list(agent_dict.values()))\n",
    "print(agent_dict.keys())\n"
   ]
  },
  {
   "cell_type": "code",
   "execution_count": null,
   "metadata": {},
   "outputs": [],
   "source": [
    "tree = KDTree(list(agent_dict.keys()))\n",
    "print(tree)\n",
    "#we make a KD tree to efficiently find the neighbours with the agent positions as the data,\n",
    "#which are the agent_dict's keys.\n",
    "tree.query_ball_point(list(agent_dict.keys()), 0.5)\n",
    "\n",
    "#to get the nearset neighbours of an agent, we pass its position,\n",
    "#the function returns the indecies in the list of the agent_dict.keys() of the agents that are its neighbours,\n",
    "#but we want the actual agent, not its positions, so to retrieve them, we pass that index through the list of the agent VALUES\n",
    "neighbours_indicies = tree.query_ball_point((0.7042129320036289, 0.4333832138445979), 0.5)\n",
    "\n"
   ]
  },
  {
   "cell_type": "code",
   "execution_count": null,
   "metadata": {},
   "outputs": [],
   "source": [
    "print(list(agent_dict.values())[1])"
   ]
  },
  {
   "cell_type": "code",
   "execution_count": null,
   "metadata": {},
   "outputs": [],
   "source": [
    "for neighbour_index in neighbours_indicies:\n",
    "    neighbour_agent = list(agent_dict.values())[neighbour_index]\n",
    "    print(neighbour_agent)"
   ]
  },
  {
   "cell_type": "code",
   "execution_count": null,
   "metadata": {},
   "outputs": [],
   "source": [
    "list1 = [None, 2, 3, 3]\n",
    "depth = 3\n",
    "print(len(list1))\n",
    "assert len(list1) - 1 == depth"
   ]
  },
  {
   "cell_type": "code",
   "execution_count": null,
   "metadata": {},
   "outputs": [],
   "source": [
    "\n",
    "# Create a random generator instance\n",
    "rng = np.random.default_rng()\n",
    "\n",
    "# Define probabilities\n",
    "prob_vector = [0.1, 0.5, 0.4]\n",
    "\n",
    "# Define possible choices\n",
    "choices = [True, False, None]\n",
    "\n",
    "# Draw a random choice based on probabilities\n",
    "output = rng.choice(choices, p=prob_vector)\n",
    "\n",
    "print(output)"
   ]
  },
  {
   "cell_type": "markdown",
   "metadata": {},
   "source": [
    "## How to initialise the Tree\n"
   ]
  },
  {
   "cell_type": "code",
   "execution_count": 5,
   "metadata": {},
   "outputs": [],
   "source": [
    "from algorithms.tree import Tree\n",
    "from components.agent import Agent\n",
    "from algorithms.neighbours import get_neighbours\n",
    "from random import sample\n",
    "\n",
    "class Tree:\n",
    "\n",
    "    def __init__(self, prover:Agent, depth:int, number_of_nodes_per_depth:list, agent_dictionary):\n",
    "        self.prover = prover\n",
    "        self.nodes = [[prover]]\n",
    "        self.depth = depth\n",
    "        self.n_d = number_of_nodes_per_depth\n",
    "        for depth_level in range(self.depth):\n",
    "            depth_level_node_list = []\n",
    "\n",
    "            for parent in self.nodes[depth_level]:\n",
    "                parent.neighbours = get_neighbours(parent, agent_dictionary)\n",
    "                children = sample(parent.neighbours, self.n_d[depth_level])\n",
    "                depth_level_node_list.append(children)\n",
    "            self.nodes.extend(depth_level_node_list)\n",
    "\n",
    "\n",
    "\n",
    "\n",
    "agents_list = [Agent(p_response=[0.1, 0.5, 0.4], p_claim=[0.1, 0.5, 0.4], environment_bounds=[[0, 1], [0,1]]) for _ in range(8)]\n",
    "\n",
    "#agents_dict contains as keys the agents' positions, and the agent instance as the value. \n",
    "agent_dict = {(agent.x_position, agent.y_position):agent for agent in agents_list}\n",
    "prover = agents_list[0]\n",
    "tree3 = Tree(prover=prover, depth=3, number_of_nodes_per_depth=[2, 3, 4], agent_dictionary=agent_dict)"
   ]
  },
  {
   "cell_type": "code",
   "execution_count": null,
   "metadata": {},
   "outputs": [],
   "source": [
    "tree3.nodes"
   ]
  },
  {
   "cell_type": "code",
   "execution_count": null,
   "metadata": {},
   "outputs": [],
   "source": [
    "depth = 2\n",
    "nodes = [[] for _ in range(depth+1)]\n",
    "\n",
    "nodes[0] = [prover]\n",
    "\n",
    "number_of_nodes_per_depth=[2, 3]\n",
    "agent_names = ['agent1, agent2','agent11', 'agent12', 'agent13', 'agent21', 'agent22', 'agent23']\n",
    "\n",
    "#target = [['prover'], ['agent1, agent2'], [['agent11', 'agent12', 'agent13'], ['agent21', 'agent22', 'agent23']]]\n",
    "\n",
    "#for depth level in depth:\n",
    "    #for each parent in that depth level\n",
    "        #parent names n_d many childres\n",
    "        #add these children to the next depth level slot of the nodes list.\n",
    "print(nodes)\n",
    "\n",
    "for level in nodes:\n",
    "    \n",
    "    sample_size = number_of_nodes_per_depth[nodes.index(level)]\n",
    "    print(nodes.index(level),  sample_size)\n",
    "    #print('level: ', level)\n",
    "    for parent in level:\n",
    "        print('parent: ', parent)\n",
    "        \n",
    "        children = sample(agent_names,sample_size)\n",
    "        print('children', children)\n",
    "        nodes.insert(nodes.index(level), children)\n",
    "print(nodes)"
   ]
  },
  {
   "cell_type": "code",
   "execution_count": 4,
   "metadata": {},
   "outputs": [
    {
     "ename": "NameError",
     "evalue": "name 'prover' is not defined",
     "output_type": "error",
     "traceback": [
      "\u001b[0;31m---------------------------------------------------------------------------\u001b[0m",
      "\u001b[0;31mNameError\u001b[0m                                 Traceback (most recent call last)",
      "Cell \u001b[0;32mIn[4], line 12\u001b[0m\n\u001b[1;32m     10\u001b[0m n_d \u001b[38;5;241m=\u001b[39m [\u001b[38;5;241m2\u001b[39m, \u001b[38;5;241m3\u001b[39m]\n\u001b[1;32m     11\u001b[0m nodes \u001b[38;5;241m=\u001b[39m [[] \u001b[38;5;28;01mfor\u001b[39;00m _ \u001b[38;5;129;01min\u001b[39;00m \u001b[38;5;28mrange\u001b[39m(depth \u001b[38;5;241m+\u001b[39m\u001b[38;5;241m1\u001b[39m)]\n\u001b[0;32m---> 12\u001b[0m nodes[\u001b[38;5;241m0\u001b[39m] \u001b[38;5;241m=\u001b[39m [\u001b[43mprover\u001b[49m]\n\u001b[1;32m     13\u001b[0m \u001b[38;5;66;03m#nodes = [prover]\u001b[39;00m\n\u001b[1;32m     15\u001b[0m \u001b[38;5;28;01mfor\u001b[39;00m d \u001b[38;5;129;01min\u001b[39;00m \u001b[38;5;28mrange\u001b[39m(depth):\n\u001b[1;32m     16\u001b[0m     \u001b[38;5;66;03m#print(d, n_d[d])\u001b[39;00m\n",
      "\u001b[0;31mNameError\u001b[0m: name 'prover' is not defined"
     ]
    }
   ],
   "source": [
    "\n",
    "#nodes = [[] for _ in range(depth + 1)]\n",
    "\n",
    "agents_list = [Agent(p_response=[0.1, 0.5, 0.4], p_claim=[0.1, 0.5, 0.4], environment_bounds=[[0, 1], [0,1]]) for _ in range(8)]\n",
    "\n",
    "#agents_dict contains as keys the agents' positions, and the agent instance as the value. \n",
    "agent_dict = {(agent.x_position, agent.y_position):agent for agent in agents_list}\n",
    "\n",
    "#nodes = [[prover],[]]\n",
    "depth = 2\n",
    "n_d = [2, 3]\n",
    "nodes = [[] for _ in range(depth +1)]\n",
    "nodes[0] = [prover]\n",
    "#nodes = [prover]\n",
    "\n",
    "for d in range(depth):\n",
    "    #print(d, n_d[d])\n",
    "    children = [prover for _ in range(n_d[d])]\n",
    "    print(d, n_d[d], children)\n",
    "    parents_level = []\n",
    "    for parent in nodes[d]:\n",
    "        #print(parent)\n",
    "        children = [prover for _ in range(n_d[d])]\n",
    "        parents_level.append(children)\n",
    "        print(parents_level)\n",
    "    #nodes.append(parents_level)\n",
    "print(nodes)\n",
    "\n",
    "\n",
    "\n",
    "    #print(n_d[d])\n",
    "    #children = [prover for _ in range(n_d[d])]\n",
    "    #print(children)\n",
    "\n",
    "    #children = [[prover] for _ in range(n_d[d+1])]\n",
    "    #nodes[d+1] = children\n",
    "    #print(children)\n",
    "\n",
    "\n",
    "\n",
    "\n"
   ]
  },
  {
   "cell_type": "code",
   "execution_count": null,
   "metadata": {},
   "outputs": [],
   "source": [
    "tree3.nodes"
   ]
  },
  {
   "cell_type": "code",
   "execution_count": null,
   "metadata": {},
   "outputs": [],
   "source": [
    "from components.agent import Agent\n",
    "from algorithms.tree import Tree\n",
    "\n",
    "#def checks(prover:Agent, threshold:float, named_agents:list, nodes_per_depth:list):\n",
    "    #do some checks\n",
    "    #return outcome\n",
    "\n",
    "\n",
    "def TPoP(prover:Agent, tree:Tree, threshold:float)-> bool:\n",
    "    for depth_level in range(tree.depth, 0, -1):\n",
    "        print(depth_level)\n",
    "\n",
    "for depth_level in range(6, -1, -1):\n",
    "    print(depth_level)\n",
    "    print(tree3.nodes[depth_level])"
   ]
  },
  {
   "cell_type": "code",
   "execution_count": 64,
   "metadata": {},
   "outputs": [
    {
     "data": {
      "text/plain": [
       "[['prover'],\n",
       " ['agent1', 'agent2'],\n",
       " ['hello', 'hello'],\n",
       " ['hello', 'hello'],\n",
       " ['hello', 'hello', 'hello']]"
      ]
     },
     "execution_count": 64,
     "metadata": {},
     "output_type": "execute_result"
    }
   ],
   "source": [
    "#test = [['prover'], ['agent1', 'agent2'], ['agent1', 'agent2', 'agent3']]\n",
    "test = [['prover'], ['agent1', 'agent2']]\n",
    "n_d = [2, 3]\n",
    "#do this line len(test[2]) many times:\n",
    "#append for _ in range(n_d[d])\n",
    "#test.append(['hello' for _ in range(len(test[2]))])\n",
    "for d in range(2):\n",
    "    for i in range(len(test[d])):\n",
    "        test.append(['hello' for _ in range(n_d[i])])\n",
    "test"
   ]
  },
  {
   "cell_type": "code",
   "execution_count": null,
   "metadata": {},
   "outputs": [
    {
     "name": "stdout",
     "output_type": "stream",
     "text": [
      "6\n"
     ]
    }
   ],
   "source": [
    "def recursion(k):\n",
    "    if k == 0:\n",
    "        return 0\n",
    "    return k + recursion(k-1)\n",
    "\n",
    "output = recursion(3)\n",
    "print(output)"
   ]
  },
  {
   "cell_type": "code",
   "execution_count": 80,
   "metadata": {},
   "outputs": [
    {
     "name": "stdout",
     "output_type": "stream",
     "text": [
      "[['prover'], 'hello', 'hello', 'hello']\n"
     ]
    }
   ],
   "source": [
    "def recursion_list(iterations, input):\n",
    "    if iterations == 0:\n",
    "        return input\n",
    "    input.append('hello')\n",
    "    return recursion_list(iterations-1, input)\n",
    "    \n",
    "\n",
    "test = [['prover']]\n",
    "output = recursion_list(3, test)\n",
    "print(test)"
   ]
  },
  {
   "cell_type": "code",
   "execution_count": null,
   "metadata": {},
   "outputs": [],
   "source": [
    "\"\"\"Notes with recursion: the way you reduce the iteration counter\n",
    "is by calling the function inside the function, but with i-1.\n",
    "THIS is what makes it iterate downwards, since i-1 is the new input \n",
    "to the original function.\n",
    "You need an end case, if the input is 0 or the limit you hit, return the \n",
    "working input.\"\"\""
   ]
  },
  {
   "cell_type": "code",
   "execution_count": null,
   "metadata": {},
   "outputs": [],
   "source": [
    "#notes: we want to make the tree a dictionary(hashmap) because search is O(n)"
   ]
  },
  {
   "cell_type": "code",
   "execution_count": 90,
   "metadata": {},
   "outputs": [
    {
     "name": "stdout",
     "output_type": "stream",
     "text": [
      "{'prover': [], 'agent1': ['child1', 'child2'], 'agent2': ['child1', 'child2'], 'agent3': ['child1', 'child2']}\n"
     ]
    }
   ],
   "source": [
    "tree = {'prover': []} #TODO: tbd if i should change values to some other data type more optimal for searching?\n",
    "\n",
    "def recursive_add(input_tree, iterations):\n",
    "    #if iterations == final depth level, then stop\n",
    "    if iterations == 3:\n",
    "        return input_tree\n",
    "    input_tree.update({'agent'+ str(iterations+1): ['child1', 'child2']})\n",
    "    return recursive_add(input_tree, iterations+1)\n",
    "\n",
    "output = recursive_add(tree, 0)\n",
    "print(output)"
   ]
  },
  {
   "cell_type": "code",
   "execution_count": null,
   "metadata": {},
   "outputs": [
    {
     "name": "stdout",
     "output_type": "stream",
     "text": [
      "agent1\n",
      "agent2\n"
     ]
    }
   ],
   "source": [
    "treedict = {\n",
    "    0: {\n",
    "        prover: {\n",
    "            'children': ['agent1', 'agent2'],\n",
    "            'instance': 'AgentInstance', \n",
    "            'parent': None\n",
    "        }\n",
    "    },\n",
    "    1: {\n",
    "        'agent1': {\n",
    "            'children': ['agent3', 'agent4'],\n",
    "            'instance': 'AgentInstance',\n",
    "            'parent': prover\n",
    "        },\n",
    "        'agent2': {\n",
    "            'children': ['agent5', 'agent6'],\n",
    "            'instance': 'AgentInstance',\n",
    "            'parent': prover\n",
    "        }\n",
    "    },\n",
    "    2: {\n",
    "        'agent3': {\n",
    "            'children': [],\n",
    "            'instance': 'AgentInstance',\n",
    "            'parent': 'agent1'\n",
    "        },\n",
    "        'agent4': {\n",
    "            'children': [],\n",
    "            'instance': 'AgentInstance',\n",
    "            'parent': 'agent1'\n",
    "        },\n",
    "        'agent5': {\n",
    "            'children': [],\n",
    "            'instance': 'AgentInstance',\n",
    "            'parent': 'agent2'\n",
    "        },\n",
    "        'agent6': {\n",
    "            'children': [],\n",
    "            'instance': 'AgentInstance',\n",
    "            'parent': 'agent2'\n",
    "        },\n",
    "    }\n",
    "}\n",
    "\n",
    "for a in treedict[1]:#['agent1']['parent']:\n",
    "    print(a)\n",
    "    \n",
    "#tree[depth_level][agent][children]\n",
    "#tree[depth_level][agent][parent]\n",
    "#tree[depth_level][agent][instance]"
   ]
  },
  {
   "cell_type": "code",
   "execution_count": null,
   "metadata": {},
   "outputs": [],
   "source": [
    "treedict = {\n",
    "    0: {\n",
    "        prover: {\n",
    "            'children': ['agent1', 'agent2'],\n",
    "            'instance': 'AgentInstance', \n",
    "            'parent': None\n",
    "        }\n",
    "    }\n",
    "}\n",
    "#treedict.update()"
   ]
  },
  {
   "cell_type": "code",
   "execution_count": 12,
   "metadata": {},
   "outputs": [
    {
     "name": "stdout",
     "output_type": "stream",
     "text": [
      "<components.agent.Agent object at 0x111f24250>\n",
      "<components.agent.Agent object at 0x1124599f0>\n",
      "{0: {<components.agent.Agent object at 0x1103a1f00>: {'children': [<components.agent.Agent object at 0x111f24250>, <components.agent.Agent object at 0x1124599f0>], 'instance': 'AgentInstance', 'parent': None}}, 1: {<components.agent.Agent object at 0x1124599f0>: {'children': [], 'instance': <components.agent.Agent object at 0x1124599f0>, 'parent': <components.agent.Agent object at 0x1103a1f00>}}}\n"
     ]
    },
    {
     "data": {
      "text/plain": [
       "\"At each depth level:\\n    for each parent in the main tree\\n        name the children\\n        update the children in the parent's dict\\n        \\n        create a new parent dict \\n    append it to the depth level main dict\\n\\n    for each child:\\n        name children\\n        update children \\n        ...\\n\\n    update the parent of the current child \\n\""
      ]
     },
     "execution_count": 12,
     "metadata": {},
     "output_type": "execute_result"
    }
   ],
   "source": [
    "starting_dict = { 0: {prover: {'children': [],\n",
    "                        'instance': 'AgentInstance',\n",
    "                        'parent': None}}}\n",
    "\n",
    "#parent names children\n",
    "#parent appends children to 'children' list in dictionary\n",
    "#add agent instance to the dictionary 'instance'\n",
    "#TODO: set the parent agent in the next depth level\n",
    "\n",
    "from random import sample\n",
    "from components.agent import Agent\n",
    "from algorithms.neighbours import get_neighbours\n",
    "\n",
    "agents_list = [Agent(p_response=[0.1, 0.5, 0.4], p_claim=[0.1, 0.5, 0.4], environment_bounds=[[0, 1], [0,1]]) for _ in range(8)]\n",
    "\n",
    "#agents_dict contains as keys the agents' positions, and the agent instance as the value. \n",
    "agent_dictionary = {(agent.x_position, agent.y_position):agent for agent in agents_list}\n",
    "\n",
    "#nodes = [[prover],[]]\n",
    "depth = 1\n",
    "n_d = [2, 3]\n",
    "\n",
    "#--------------THIS IS THE CODE TO ADD THE CHILDREN TO THE PARENT AT THAT DEPTH LEVEL----------------------\n",
    "for depth_level in range(depth):\n",
    "\n",
    "    for parent in starting_dict[depth_level]:\n",
    "        \n",
    "        parent.neighbours = get_neighbours(parent, agent_dictionary)\n",
    "        children = sample(parent.neighbours, n_d[depth_level])\n",
    "        #set the parent of these children to equal parent here. \n",
    "        #print(children)\n",
    "        starting_dict[depth_level][parent]['children'] = children\n",
    "        \n",
    "        for child in starting_dict[depth_level][parent]['children']:\n",
    "            print(child)\n",
    "        #make a new depth level dictionary\n",
    "            depth_level_Dict = {child: {'children': [],\n",
    "                            'instance': child,\n",
    "                            'parent': parent}}\n",
    "            #then we put this dictionary in the NEXT depth level\n",
    "            #and then we re call the function. \n",
    "            starting_dict.update({depth_level + 1: depth_level_Dict})\n",
    "print(starting_dict)\n",
    "#----------------------------------------------------------------------------------------------------------\n",
    "\n",
    "\n",
    "\n",
    "    \n",
    "        \n",
    "'''At each depth level:\n",
    "    for each parent in the main tree\n",
    "        name the children\n",
    "        update the children in the parent's dict\n",
    "        \n",
    "        create a new parent dict \n",
    "    append it to the depth level main dict\n",
    "\n",
    "    for each child:\n",
    "        name children\n",
    "        update children \n",
    "        ...\n",
    "\n",
    "    update the parent of the current child \n",
    "'''\n"
   ]
  },
  {
   "cell_type": "code",
   "execution_count": null,
   "metadata": {},
   "outputs": [
    {
     "name": "stdout",
     "output_type": "stream",
     "text": [
      "<components.agent.Agent object at 0x11246cd30>\n",
      "<components.agent.Agent object at 0x11246c520>\n",
      "{0: {<components.agent.Agent object at 0x1103a1f00>: {'children': [<components.agent.Agent object at 0x11246cd30>, <components.agent.Agent object at 0x11246c520>], 'instance': 'AgentInstance', 'parent': None}}, <components.agent.Agent object at 0x11246cd30>: {'children': [], 'instance': <components.agent.Agent object at 0x11246cd30>, 'parent': <components.agent.Agent object at 0x1103a1f00>}, <components.agent.Agent object at 0x11246c520>: {'children': [], 'instance': <components.agent.Agent object at 0x11246c520>, 'parent': <components.agent.Agent object at 0x1103a1f00>}}\n"
     ]
    }
   ],
   "source": [
    "starting_dict = { 0: {prover: {'children': [],\n",
    "                        'instance': 'AgentInstance',\n",
    "                        'parent': None}}}\n",
    "\n",
    "#parent names children\n",
    "#parent appends children to 'children' list in dictionary\n",
    "#add agent instance to the dictionary 'instance'\n",
    "#TODO: set the parent agent in the next depth level\n",
    "\n",
    "from random import sample\n",
    "from components.agent import Agent\n",
    "from algorithms.neighbours import get_neighbours\n",
    "\n",
    "agents_list = [Agent(p_response=[0.1, 0.5, 0.4], p_claim=[0.1, 0.5, 0.4], environment_bounds=[[0, 1], [0,1]]) for _ in range(8)]\n",
    "\n",
    "#agents_dict contains as keys the agents' positions, and the agent instance as the value. \n",
    "agent_dictionary = {(agent.x_position, agent.y_position):agent for agent in agents_list}\n",
    "\n",
    "#nodes = [[prover],[]]\n",
    "depth = 1\n",
    "n_d = [2, 3]\n",
    "\n",
    "#--------------THIS IS THE CODE TO ADD THE CHILDREN TO THE PARENT AT THAT DEPTH LEVEL----------------------\n",
    "for depth_level in range(depth):\n",
    "\n",
    "    for parent in starting_dict[depth_level]:\n",
    "        \n",
    "        parent.neighbours = get_neighbours(parent, agent_dictionary)\n",
    "        children = sample(parent.neighbours, n_d[depth_level])\n",
    "        #set the parent of these children to equal parent here. \n",
    "        #print(children)\n",
    "        starting_dict[depth_level][parent]['children'] = children\n",
    "        \n",
    "        for child in starting_dict[depth_level][parent]['children']:\n",
    "            print(child)\n",
    "        #make a new depth level dictionary\n",
    "            depth_level_Dict = {child: {'children': [],\n",
    "                            'instance': child,\n",
    "                            'parent': parent}}\n",
    "            #then we put this dictionary in the NEXT depth level\n",
    "            #and then we re call the function. \n",
    "            starting_dict.update({depth_level + 1: depth_level_Dict})\n",
    "            #lets try:\n",
    "            #starting_dict = {**starting_dict, **depth_level_Dict}\n",
    "            \n",
    "print(starting_dict)"
   ]
  },
  {
   "cell_type": "code",
   "execution_count": 38,
   "metadata": {},
   "outputs": [
    {
     "name": "stdout",
     "output_type": "stream",
     "text": [
      "parent:  <components.agent.Agent object at 0x1103a1f00>\n",
      "parent:  <components.agent.Agent object at 0x11266d8d0>\n",
      "parent:  <components.agent.Agent object at 0x11155d270>\n",
      "{0: {<components.agent.Agent object at 0x1103a1f00>: {'children': [<components.agent.Agent object at 0x11266d8d0>, <components.agent.Agent object at 0x11155d270>], 'instance': 'AgentInstance', 'parent': None}}, 1: {<components.agent.Agent object at 0x11266d8d0>: {'children': [<components.agent.Agent object at 0x11258c490>, <components.agent.Agent object at 0x1076bd7e0>, <components.agent.Agent object at 0x112699060>], 'instance': <components.agent.Agent object at 0x11266d8d0>, 'parent': <components.agent.Agent object at 0x1103a1f00>}, <components.agent.Agent object at 0x11155d270>: {'children': [<components.agent.Agent object at 0x1076bd7e0>, <components.agent.Agent object at 0x11155d270>, <components.agent.Agent object at 0x11269a170>], 'instance': <components.agent.Agent object at 0x11155d270>, 'parent': <components.agent.Agent object at 0x1103a1f00>}}, 2: {<components.agent.Agent object at 0x1076bd7e0>: {'children': [], 'instance': <components.agent.Agent object at 0x1076bd7e0>, 'parent': <components.agent.Agent object at 0x11155d270>}, <components.agent.Agent object at 0x11155d270>: {'children': [], 'instance': <components.agent.Agent object at 0x11155d270>, 'parent': <components.agent.Agent object at 0x11155d270>}, <components.agent.Agent object at 0x11269a170>: {'children': [], 'instance': <components.agent.Agent object at 0x11269a170>, 'parent': <components.agent.Agent object at 0x11155d270>}}}\n"
     ]
    }
   ],
   "source": [
    "starting_dict = { 0: {prover: {'children': [],\n",
    "                        'instance': 'AgentInstance',\n",
    "                        'parent': None}}}\n",
    "\n",
    "#parent names children\n",
    "#parent appends children to 'children' list in dictionary\n",
    "#add agent instance to the dictionary 'instance'\n",
    "#TODO: set the parent agent in the next depth level\n",
    "\n",
    "from random import sample\n",
    "from components.agent import Agent\n",
    "from algorithms.neighbours import get_neighbours\n",
    "\n",
    "agents_list = [Agent(p_response=[0.1, 0.5, 0.4], p_claim=[0.1, 0.5, 0.4], environment_bounds=[[0, 1], [0,1]]) for _ in range(20)]\n",
    "\n",
    "#agents_dict contains as keys the agents' positions, and the agent instance as the value. \n",
    "agent_dictionary = {(agent.x_position, agent.y_position):agent for agent in agents_list}\n",
    "\n",
    "#nodes = [[prover],[]]\n",
    "depth = 2\n",
    "n_d = [2, 3]\n",
    "\n",
    "#--------------THIS IS THE CODE TO ADD THE CHILDREN TO THE PARENT AT THAT DEPTH LEVEL----------------------\n",
    "for depth_level in range(depth):\n",
    "\n",
    "    for parent in starting_dict[depth_level]:\n",
    "        print('parent: ', parent)\n",
    "        \n",
    "        parent.neighbours = get_neighbours(parent, agent_dictionary)\n",
    "        children = sample(parent.neighbours, n_d[depth_level])\n",
    "        #set the parent of these children to equal parent here. \n",
    "        #print(children)\n",
    "        starting_dict[depth_level][parent]['children'] = children\n",
    "        \n",
    "        parent_dict = {}\n",
    "        for child in starting_dict[depth_level][parent]['children']:\n",
    "            #print(child)\n",
    "        #make a new depth level dictionary\n",
    "            running_children_dict = {child: {'children': [],\n",
    "                            'instance': child,\n",
    "                            'parent': parent}}\n",
    "            #then we put this dictionary in the NEXT depth level\n",
    "            #and then we re call the function. \n",
    "            #starting_dict.update({depth_level + 1: depth_level_Dict})\n",
    "            \n",
    "            #THIS SEEMS CLOSE:\n",
    "            #starting_dict[depth_level] = starting_dict[depth_level] | depth_level_Dict\n",
    "            \n",
    "            parent_dict = parent_dict | running_children_dict\n",
    "        starting_dict.update({depth_level + 1: parent_dict})\n",
    "            \n",
    "print(starting_dict)"
   ]
  },
  {
   "cell_type": "code",
   "execution_count": 71,
   "metadata": {},
   "outputs": [
    {
     "name": "stdout",
     "output_type": "stream",
     "text": [
      "parent:  <components.agent.Agent object at 0x1103a1f00>\n",
      "parent:  <components.agent.Agent object at 0x1076bd5d0>\n",
      "parent:  <components.agent.Agent object at 0x1076bd5d0>\n",
      "parent:  <components.agent.Agent object at 0x11265dbd0>\n",
      "{0: {<components.agent.Agent object at 0x1103a1f00>: {'children': [<components.agent.Agent object at 0x1076bd5d0>], 'instance': 'AgentInstance', 'parent': None}}, 1: {<components.agent.Agent object at 0x1076bd5d0>: {'children': [<components.agent.Agent object at 0x1076bd5d0>, <components.agent.Agent object at 0x11265dbd0>], 'instance': <components.agent.Agent object at 0x1076bd5d0>, 'parent': <components.agent.Agent object at 0x1103a1f00>}}, 2: {<components.agent.Agent object at 0x1076bd5d0>: {'children': [<components.agent.Agent object at 0x112698910>], 'instance': <components.agent.Agent object at 0x1076bd5d0>, 'parent': <components.agent.Agent object at 0x1076bd5d0>}, <components.agent.Agent object at 0x11265dbd0>: {'children': [<components.agent.Agent object at 0x1076bd7e0>], 'instance': <components.agent.Agent object at 0x11265dbd0>, 'parent': <components.agent.Agent object at 0x1076bd5d0>}}, 3: {<components.agent.Agent object at 0x112698910>: {'children': [], 'instance': <components.agent.Agent object at 0x112698910>, 'parent': <components.agent.Agent object at 0x1076bd5d0>}, <components.agent.Agent object at 0x1076bd7e0>: {'children': [], 'instance': <components.agent.Agent object at 0x1076bd7e0>, 'parent': <components.agent.Agent object at 0x11265dbd0>}}}\n",
      "{<components.agent.Agent object at 0x1103a1f00>: {'children': [<components.agent.Agent object at 0x1076bd5d0>], 'instance': 'AgentInstance', 'parent': None}}\n"
     ]
    }
   ],
   "source": [
    "def recursive_build_tree(starting_tree, agent_dictionary, depth_level, max_depth, n_d):\n",
    "    if depth_level == max_depth:\n",
    "        return starting_tree\n",
    "    \n",
    "    # Ensure the next depth level exists\n",
    "    if depth_level + 1 not in starting_tree:\n",
    "        starting_tree[depth_level + 1] = {}\n",
    "\n",
    "    for parent in starting_tree[depth_level]:\n",
    "        print('parent: ', parent)\n",
    "        parent.neighbours = get_neighbours(parent, agent_dictionary)\n",
    "        children = sample(parent.neighbours, n_d[depth_level])\n",
    "        \n",
    "        starting_tree[depth_level][parent]['children'] = children\n",
    "        #set the parent of these children to equal parent here. \n",
    "        #print(children)\n",
    "        \n",
    "        for child in children: #TODO: is this the same as starting_dict[depth_level][parent]['children']?\n",
    "            child.parent = parent\n",
    "            child_dict = {child: {'children': [],\n",
    "                            'instance': child,\n",
    "                            'parent': parent}}\n",
    "            \n",
    "            #if child not in starting_tree[depth_level+1]:\n",
    "            starting_tree[depth_level + 1].update(child_dict)\n",
    "                #TODO\n",
    "            \n",
    "    return recursive_build_tree(starting_tree, agent_dictionary, depth_level + 1, max_depth, n_d)\n",
    "\n",
    "starting_dict = { 0: {prover: {'children': [],\n",
    "                        'instance': 'AgentInstance',\n",
    "                        'parent': None}}}\n",
    "output = recursive_build_tree(starting_dict, agent_dictionary, 0, 3, [1, 2, 1])\n",
    "print(output)\n",
    "print(output[0])"
   ]
  },
  {
   "cell_type": "code",
   "execution_count": 77,
   "metadata": {},
   "outputs": [
    {
     "name": "stdout",
     "output_type": "stream",
     "text": [
      "dict_keys([<components.agent.Agent object at 0x1103a1f00>])\n"
     ]
    }
   ],
   "source": [
    "print(output[0].keys())"
   ]
  },
  {
   "cell_type": "code",
   "execution_count": null,
   "metadata": {},
   "outputs": [
    {
     "name": "stdout",
     "output_type": "stream",
     "text": [
      "<components.agent.Agent object at 0x1076bd5d0>\n"
     ]
    }
   ],
   "source": [
    "from collections import deque\n",
    "\"\"\"Breadth first search algorithm(tree, start_node):\n",
    "\n",
    "queue = [] (collections.deque)\n",
    "visited = []\n",
    "\n",
    "enqueue the start_node into the queue\n",
    "add start_node into visited\n",
    "\n",
    "while there are nodes in the queue:\n",
    "    for each node in the queue:\n",
    "        add node to visited\n",
    "        add its neighbours to the queue\n",
    "        pop it from the queue\n",
    "    \"\"\"\n",
    "\n",
    "#provide starting agent as Agent instance \n",
    "queue = deque(output[0].keys()) #fast pop/append from both ends\n",
    "\n",
    "visited = deque() \n",
    "visited.append(prover)\n",
    "\n",
    "queue.extend(output[0][prover]['children'])\n",
    "\n",
    "\n",
    "#print(visited)\n",
    "for depth_level in range(depth+1, 0, -1):\n",
    "    pass\n",
    "    #print(depth_level)\n",
    "    #print(output[depth_level])\n",
    "    for node in queue:\n",
    "        \n",
    "        #add the node's neighbours to the queue\n",
    "        #visit the node\n",
    "        #visited.append(node)\n",
    "        #remove the node from the queue\n",
    "        #move up a level\n",
    "\n",
    "\n",
    "'''\n",
    "Initialise all parents as valid.\n",
    "For each depth level:\n",
    "if parent is valid\n",
    "    for each parent:\n",
    "        for each of its children:\n",
    "            count approvals\n",
    "            if approvals is less than threshold:\n",
    "                parent is invalid\n",
    "                move up a level \n",
    "                repeat'''"
   ]
  },
  {
   "cell_type": "code",
   "execution_count": null,
   "metadata": {},
   "outputs": [
    {
     "name": "stdout",
     "output_type": "stream",
     "text": [
      "<components.agent.Agent object at 0x112698910>\n",
      "<components.agent.Agent object at 0x1076bd7e0>\n",
      "<components.agent.Agent object at 0x1076bd5d0>\n",
      "<components.agent.Agent object at 0x11265dbd0>\n"
     ]
    }
   ],
   "source": [
    "#--------------TPOP FUNCTION ------------------\n",
    "from algorithms.response import response\n",
    "threshold = 0.66\n",
    "for depth_level in range(depth+1, 0, -1):\n",
    "    \n",
    "    for parent in output[depth_level]:\n",
    "        if parent.in_tree == True:\n",
    "            parent_approval_counter = 0\n",
    "            #print(depth_level, parent)\n",
    "            for child in output[depth_level][parent]['children']:\n",
    "                print(child)\n",
    "                approval = response(child, parent)\n",
    "                if approval >= threshold:\n",
    "                    parent_approval_counter += 1\n",
    "            if parent_approval_counter <= n_d[depth_level]*threshold:\n",
    "                parent.in_tree = False\n"
   ]
  }
 ],
 "metadata": {
  "kernelspec": {
   "display_name": "Python 3",
   "language": "python",
   "name": "python3"
  },
  "language_info": {
   "codemirror_mode": {
    "name": "ipython",
    "version": 3
   },
   "file_extension": ".py",
   "mimetype": "text/x-python",
   "name": "python",
   "nbconvert_exporter": "python",
   "pygments_lexer": "ipython3",
   "version": "3.10.8"
  }
 },
 "nbformat": 4,
 "nbformat_minor": 2
}
